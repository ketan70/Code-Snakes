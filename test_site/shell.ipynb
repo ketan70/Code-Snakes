{
 "cells": [
  {
   "cell_type": "code",
   "execution_count": null,
   "metadata": {},
   "outputs": [],
   "source": [
    "# import test_model.models \n",
    "\n",
    "# car = car()\n",
    "\n",
    "# car.save()\n",
    "\n",
    "# car = Car(name1=\"nexcon\", speed=110),\n",
    "\n",
    "# car.save()\n",
    "\n",
    "# Car.objects.crete(name1=\"nexon2\" , speed=160)\n",
    "\n",
    "# car "
   ]
  },
  {
   "attachments": {},
   "cell_type": "markdown",
   "metadata": {},
   "source": [
    "#### Curd operation"
   ]
  },
  {
   "cell_type": "markdown",
   "metadata": {},
   "source": []
  }
 ],
 "metadata": {
  "kernelspec": {
   "display_name": "Python 3",
   "language": "python",
   "name": "python3"
  },
  "language_info": {
   "codemirror_mode": {
    "name": "ipython",
    "version": 3
   },
   "file_extension": ".py",
   "mimetype": "text/x-python",
   "name": "python",
   "nbconvert_exporter": "python",
   "pygments_lexer": "ipython3",
   "version": "3.9.6"
  },
  "orig_nbformat": 4
 },
 "nbformat": 4,
 "nbformat_minor": 2
}
